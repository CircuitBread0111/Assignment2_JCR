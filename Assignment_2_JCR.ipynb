{
  "nbformat": 4,
  "nbformat_minor": 0,
  "metadata": {
    "colab": {
      "provenance": [],
      "collapsed_sections": []
    },
    "kernelspec": {
      "name": "python3",
      "display_name": "Python 3"
    },
    "language_info": {
      "name": "python"
    }
  },
  "cells": [
    {
      "cell_type": "markdown",
      "source": [
        "# Assigment 2\n",
        "## Jerrin C. Redmon\n",
        "## CS-430"
      ],
      "metadata": {
        "id": "tp7MC5gIFyoz"
      }
    },
    {
      "cell_type": "code",
      "source": [
        "#imports\n",
        "import numpy as np\n",
        "import pandas as pd\n",
        "import matplotlib.pyplot as plt"
      ],
      "metadata": {
        "id": "C1heaImUF5lh"
      },
      "execution_count": 1,
      "outputs": []
    },
    {
      "cell_type": "code",
      "source": [
        "from google.colab import drive\n",
        "drive.mount('/content/drive')"
      ],
      "metadata": {
        "colab": {
          "base_uri": "https://localhost:8080/"
        },
        "id": "erO9p87wGTrp",
        "outputId": "27497471-452e-47f6-ab49-0ed57bdaa452"
      },
      "execution_count": 2,
      "outputs": [
        {
          "output_type": "stream",
          "name": "stdout",
          "text": [
            "Mounted at /content/drive\n"
          ]
        }
      ]
    },
    {
      "cell_type": "code",
      "source": [
        "air = pd.read_csv(\"/content/AirQuality_Data.csv\")"
      ],
      "metadata": {
        "id": "ZE4JJ_r9GjVU"
      },
      "execution_count": 4,
      "outputs": []
    },
    {
      "cell_type": "code",
      "source": [
        "air.head()"
      ],
      "metadata": {
        "colab": {
          "base_uri": "https://localhost:8080/",
          "height": 206
        },
        "id": "Wq_OknY6GwQP",
        "outputId": "2829692a-b975-4656-bb2d-a9efa41ed442"
      },
      "execution_count": 5,
      "outputs": [
        {
          "output_type": "execute_result",
          "data": {
            "text/plain": [
              "   No  year  month  day  hour  PM2.5  PM10  SO2   NO2     CO    O3  TEMP  \\\n",
              "0   1  2013      3    1     0    9.0   9.0  3.0  17.0  300.0  89.0  -0.5   \n",
              "1   2  2013      3    1     1    4.0   4.0  3.0  16.0  300.0  88.0  -0.7   \n",
              "2   3  2013      3    1     2    7.0   7.0  NaN  17.0  300.0  60.0  -1.2   \n",
              "3   4  2013      3    1     3    3.0   3.0  5.0  18.0    NaN   NaN  -1.4   \n",
              "4   5  2013      3    1     4    3.0   3.0  7.0   NaN  200.0  84.0  -1.9   \n",
              "\n",
              "     PRES  DEWP  RAIN   wd  WSPM station  \n",
              "0  1024.5 -21.4   0.0  NNW   5.7  Dongsi  \n",
              "1  1025.1 -22.1   0.0   NW   3.9  Dongsi  \n",
              "2  1025.3 -24.6   0.0  NNW   5.3  Dongsi  \n",
              "3  1026.2 -25.5   0.0    N   4.9  Dongsi  \n",
              "4  1027.1 -24.5   0.0  NNW   3.2  Dongsi  "
            ],
            "text/html": [
              "\n",
              "  <div id=\"df-5315b1f8-8116-4341-9da0-d2e9908ab882\">\n",
              "    <div class=\"colab-df-container\">\n",
              "      <div>\n",
              "<style scoped>\n",
              "    .dataframe tbody tr th:only-of-type {\n",
              "        vertical-align: middle;\n",
              "    }\n",
              "\n",
              "    .dataframe tbody tr th {\n",
              "        vertical-align: top;\n",
              "    }\n",
              "\n",
              "    .dataframe thead th {\n",
              "        text-align: right;\n",
              "    }\n",
              "</style>\n",
              "<table border=\"1\" class=\"dataframe\">\n",
              "  <thead>\n",
              "    <tr style=\"text-align: right;\">\n",
              "      <th></th>\n",
              "      <th>No</th>\n",
              "      <th>year</th>\n",
              "      <th>month</th>\n",
              "      <th>day</th>\n",
              "      <th>hour</th>\n",
              "      <th>PM2.5</th>\n",
              "      <th>PM10</th>\n",
              "      <th>SO2</th>\n",
              "      <th>NO2</th>\n",
              "      <th>CO</th>\n",
              "      <th>O3</th>\n",
              "      <th>TEMP</th>\n",
              "      <th>PRES</th>\n",
              "      <th>DEWP</th>\n",
              "      <th>RAIN</th>\n",
              "      <th>wd</th>\n",
              "      <th>WSPM</th>\n",
              "      <th>station</th>\n",
              "    </tr>\n",
              "  </thead>\n",
              "  <tbody>\n",
              "    <tr>\n",
              "      <th>0</th>\n",
              "      <td>1</td>\n",
              "      <td>2013</td>\n",
              "      <td>3</td>\n",
              "      <td>1</td>\n",
              "      <td>0</td>\n",
              "      <td>9.0</td>\n",
              "      <td>9.0</td>\n",
              "      <td>3.0</td>\n",
              "      <td>17.0</td>\n",
              "      <td>300.0</td>\n",
              "      <td>89.0</td>\n",
              "      <td>-0.5</td>\n",
              "      <td>1024.5</td>\n",
              "      <td>-21.4</td>\n",
              "      <td>0.0</td>\n",
              "      <td>NNW</td>\n",
              "      <td>5.7</td>\n",
              "      <td>Dongsi</td>\n",
              "    </tr>\n",
              "    <tr>\n",
              "      <th>1</th>\n",
              "      <td>2</td>\n",
              "      <td>2013</td>\n",
              "      <td>3</td>\n",
              "      <td>1</td>\n",
              "      <td>1</td>\n",
              "      <td>4.0</td>\n",
              "      <td>4.0</td>\n",
              "      <td>3.0</td>\n",
              "      <td>16.0</td>\n",
              "      <td>300.0</td>\n",
              "      <td>88.0</td>\n",
              "      <td>-0.7</td>\n",
              "      <td>1025.1</td>\n",
              "      <td>-22.1</td>\n",
              "      <td>0.0</td>\n",
              "      <td>NW</td>\n",
              "      <td>3.9</td>\n",
              "      <td>Dongsi</td>\n",
              "    </tr>\n",
              "    <tr>\n",
              "      <th>2</th>\n",
              "      <td>3</td>\n",
              "      <td>2013</td>\n",
              "      <td>3</td>\n",
              "      <td>1</td>\n",
              "      <td>2</td>\n",
              "      <td>7.0</td>\n",
              "      <td>7.0</td>\n",
              "      <td>NaN</td>\n",
              "      <td>17.0</td>\n",
              "      <td>300.0</td>\n",
              "      <td>60.0</td>\n",
              "      <td>-1.2</td>\n",
              "      <td>1025.3</td>\n",
              "      <td>-24.6</td>\n",
              "      <td>0.0</td>\n",
              "      <td>NNW</td>\n",
              "      <td>5.3</td>\n",
              "      <td>Dongsi</td>\n",
              "    </tr>\n",
              "    <tr>\n",
              "      <th>3</th>\n",
              "      <td>4</td>\n",
              "      <td>2013</td>\n",
              "      <td>3</td>\n",
              "      <td>1</td>\n",
              "      <td>3</td>\n",
              "      <td>3.0</td>\n",
              "      <td>3.0</td>\n",
              "      <td>5.0</td>\n",
              "      <td>18.0</td>\n",
              "      <td>NaN</td>\n",
              "      <td>NaN</td>\n",
              "      <td>-1.4</td>\n",
              "      <td>1026.2</td>\n",
              "      <td>-25.5</td>\n",
              "      <td>0.0</td>\n",
              "      <td>N</td>\n",
              "      <td>4.9</td>\n",
              "      <td>Dongsi</td>\n",
              "    </tr>\n",
              "    <tr>\n",
              "      <th>4</th>\n",
              "      <td>5</td>\n",
              "      <td>2013</td>\n",
              "      <td>3</td>\n",
              "      <td>1</td>\n",
              "      <td>4</td>\n",
              "      <td>3.0</td>\n",
              "      <td>3.0</td>\n",
              "      <td>7.0</td>\n",
              "      <td>NaN</td>\n",
              "      <td>200.0</td>\n",
              "      <td>84.0</td>\n",
              "      <td>-1.9</td>\n",
              "      <td>1027.1</td>\n",
              "      <td>-24.5</td>\n",
              "      <td>0.0</td>\n",
              "      <td>NNW</td>\n",
              "      <td>3.2</td>\n",
              "      <td>Dongsi</td>\n",
              "    </tr>\n",
              "  </tbody>\n",
              "</table>\n",
              "</div>\n",
              "      <button class=\"colab-df-convert\" onclick=\"convertToInteractive('df-5315b1f8-8116-4341-9da0-d2e9908ab882')\"\n",
              "              title=\"Convert this dataframe to an interactive table.\"\n",
              "              style=\"display:none;\">\n",
              "        \n",
              "  <svg xmlns=\"http://www.w3.org/2000/svg\" height=\"24px\"viewBox=\"0 0 24 24\"\n",
              "       width=\"24px\">\n",
              "    <path d=\"M0 0h24v24H0V0z\" fill=\"none\"/>\n",
              "    <path d=\"M18.56 5.44l.94 2.06.94-2.06 2.06-.94-2.06-.94-.94-2.06-.94 2.06-2.06.94zm-11 1L8.5 8.5l.94-2.06 2.06-.94-2.06-.94L8.5 2.5l-.94 2.06-2.06.94zm10 10l.94 2.06.94-2.06 2.06-.94-2.06-.94-.94-2.06-.94 2.06-2.06.94z\"/><path d=\"M17.41 7.96l-1.37-1.37c-.4-.4-.92-.59-1.43-.59-.52 0-1.04.2-1.43.59L10.3 9.45l-7.72 7.72c-.78.78-.78 2.05 0 2.83L4 21.41c.39.39.9.59 1.41.59.51 0 1.02-.2 1.41-.59l7.78-7.78 2.81-2.81c.8-.78.8-2.07 0-2.86zM5.41 20L4 18.59l7.72-7.72 1.47 1.35L5.41 20z\"/>\n",
              "  </svg>\n",
              "      </button>\n",
              "      \n",
              "  <style>\n",
              "    .colab-df-container {\n",
              "      display:flex;\n",
              "      flex-wrap:wrap;\n",
              "      gap: 12px;\n",
              "    }\n",
              "\n",
              "    .colab-df-convert {\n",
              "      background-color: #E8F0FE;\n",
              "      border: none;\n",
              "      border-radius: 50%;\n",
              "      cursor: pointer;\n",
              "      display: none;\n",
              "      fill: #1967D2;\n",
              "      height: 32px;\n",
              "      padding: 0 0 0 0;\n",
              "      width: 32px;\n",
              "    }\n",
              "\n",
              "    .colab-df-convert:hover {\n",
              "      background-color: #E2EBFA;\n",
              "      box-shadow: 0px 1px 2px rgba(60, 64, 67, 0.3), 0px 1px 3px 1px rgba(60, 64, 67, 0.15);\n",
              "      fill: #174EA6;\n",
              "    }\n",
              "\n",
              "    [theme=dark] .colab-df-convert {\n",
              "      background-color: #3B4455;\n",
              "      fill: #D2E3FC;\n",
              "    }\n",
              "\n",
              "    [theme=dark] .colab-df-convert:hover {\n",
              "      background-color: #434B5C;\n",
              "      box-shadow: 0px 1px 3px 1px rgba(0, 0, 0, 0.15);\n",
              "      filter: drop-shadow(0px 1px 2px rgba(0, 0, 0, 0.3));\n",
              "      fill: #FFFFFF;\n",
              "    }\n",
              "  </style>\n",
              "\n",
              "      <script>\n",
              "        const buttonEl =\n",
              "          document.querySelector('#df-5315b1f8-8116-4341-9da0-d2e9908ab882 button.colab-df-convert');\n",
              "        buttonEl.style.display =\n",
              "          google.colab.kernel.accessAllowed ? 'block' : 'none';\n",
              "\n",
              "        async function convertToInteractive(key) {\n",
              "          const element = document.querySelector('#df-5315b1f8-8116-4341-9da0-d2e9908ab882');\n",
              "          const dataTable =\n",
              "            await google.colab.kernel.invokeFunction('convertToInteractive',\n",
              "                                                     [key], {});\n",
              "          if (!dataTable) return;\n",
              "\n",
              "          const docLinkHtml = 'Like what you see? Visit the ' +\n",
              "            '<a target=\"_blank\" href=https://colab.research.google.com/notebooks/data_table.ipynb>data table notebook</a>'\n",
              "            + ' to learn more about interactive tables.';\n",
              "          element.innerHTML = '';\n",
              "          dataTable['output_type'] = 'display_data';\n",
              "          await google.colab.output.renderOutput(dataTable, element);\n",
              "          const docLink = document.createElement('div');\n",
              "          docLink.innerHTML = docLinkHtml;\n",
              "          element.appendChild(docLink);\n",
              "        }\n",
              "      </script>\n",
              "    </div>\n",
              "  </div>\n",
              "  "
            ]
          },
          "metadata": {},
          "execution_count": 5
        }
      ]
    },
    {
      "cell_type": "code",
      "source": [
        "air.describe()"
      ],
      "metadata": {
        "colab": {
          "base_uri": "https://localhost:8080/",
          "height": 364
        },
        "id": "nzzktrEiGyrc",
        "outputId": "90465412-6b49-4dcd-c9cd-1f9c19f531e2"
      },
      "execution_count": 6,
      "outputs": [
        {
          "output_type": "execute_result",
          "data": {
            "text/plain": [
              "                 No          year         month           day          hour  \\\n",
              "count  35064.000000  35064.000000  35064.000000  35064.000000  35064.000000   \n",
              "mean   17532.500000   2014.662560      6.522930     15.729637     11.500000   \n",
              "std    10122.249256      1.177213      3.448752      8.800218      6.922285   \n",
              "min        1.000000   2013.000000      1.000000      1.000000      0.000000   \n",
              "25%     8766.750000   2014.000000      4.000000      8.000000      5.750000   \n",
              "50%    17532.500000   2015.000000      7.000000     16.000000     11.500000   \n",
              "75%    26298.250000   2016.000000     10.000000     23.000000     17.250000   \n",
              "max    35064.000000   2017.000000     12.000000     31.000000     23.000000   \n",
              "\n",
              "              PM2.5          PM10           SO2           NO2            CO  \\\n",
              "count  34314.000000  34511.000000  34401.000000  33463.000000  31867.000000   \n",
              "mean      86.194297    110.336742     18.531107     53.699443   1330.069131   \n",
              "std       86.575127     98.219860     22.905655     33.959230   1191.305887   \n",
              "min        3.000000      2.000000      0.285600      2.000000    100.000000   \n",
              "25%       22.000000     38.000000      4.000000     27.000000    600.000000   \n",
              "50%       61.000000     86.000000     10.000000     47.000000   1000.000000   \n",
              "75%      119.000000    151.000000     24.000000     73.000000   1700.000000   \n",
              "max      737.000000    955.000000    300.000000    258.000000  10000.000000   \n",
              "\n",
              "                 O3          TEMP          PRES          DEWP          RAIN  \\\n",
              "count  34400.000000  35044.000000  35044.000000  35044.000000  35044.000000   \n",
              "mean      57.210637     13.671490   1012.547419      2.447535      0.064020   \n",
              "std       58.033275     11.458418     10.266059     13.810696      0.786282   \n",
              "min        0.642600    -16.800000    987.100000    -35.300000      0.000000   \n",
              "25%       12.000000      3.100000   1004.000000     -8.800000      0.000000   \n",
              "50%       44.125200     14.600000   1012.200000      3.000000      0.000000   \n",
              "75%       81.000000     23.500000   1020.900000     15.000000      0.000000   \n",
              "max     1071.000000     41.100000   1042.000000     28.800000     46.400000   \n",
              "\n",
              "               WSPM  \n",
              "count  35050.000000  \n",
              "mean       1.860785  \n",
              "std        1.280368  \n",
              "min        0.000000  \n",
              "25%        1.000000  \n",
              "50%        1.500000  \n",
              "75%        2.400000  \n",
              "max       10.500000  "
            ],
            "text/html": [
              "\n",
              "  <div id=\"df-f73eabd6-3c3d-4b2d-869b-1ac0eec1a117\">\n",
              "    <div class=\"colab-df-container\">\n",
              "      <div>\n",
              "<style scoped>\n",
              "    .dataframe tbody tr th:only-of-type {\n",
              "        vertical-align: middle;\n",
              "    }\n",
              "\n",
              "    .dataframe tbody tr th {\n",
              "        vertical-align: top;\n",
              "    }\n",
              "\n",
              "    .dataframe thead th {\n",
              "        text-align: right;\n",
              "    }\n",
              "</style>\n",
              "<table border=\"1\" class=\"dataframe\">\n",
              "  <thead>\n",
              "    <tr style=\"text-align: right;\">\n",
              "      <th></th>\n",
              "      <th>No</th>\n",
              "      <th>year</th>\n",
              "      <th>month</th>\n",
              "      <th>day</th>\n",
              "      <th>hour</th>\n",
              "      <th>PM2.5</th>\n",
              "      <th>PM10</th>\n",
              "      <th>SO2</th>\n",
              "      <th>NO2</th>\n",
              "      <th>CO</th>\n",
              "      <th>O3</th>\n",
              "      <th>TEMP</th>\n",
              "      <th>PRES</th>\n",
              "      <th>DEWP</th>\n",
              "      <th>RAIN</th>\n",
              "      <th>WSPM</th>\n",
              "    </tr>\n",
              "  </thead>\n",
              "  <tbody>\n",
              "    <tr>\n",
              "      <th>count</th>\n",
              "      <td>35064.000000</td>\n",
              "      <td>35064.000000</td>\n",
              "      <td>35064.000000</td>\n",
              "      <td>35064.000000</td>\n",
              "      <td>35064.000000</td>\n",
              "      <td>34314.000000</td>\n",
              "      <td>34511.000000</td>\n",
              "      <td>34401.000000</td>\n",
              "      <td>33463.000000</td>\n",
              "      <td>31867.000000</td>\n",
              "      <td>34400.000000</td>\n",
              "      <td>35044.000000</td>\n",
              "      <td>35044.000000</td>\n",
              "      <td>35044.000000</td>\n",
              "      <td>35044.000000</td>\n",
              "      <td>35050.000000</td>\n",
              "    </tr>\n",
              "    <tr>\n",
              "      <th>mean</th>\n",
              "      <td>17532.500000</td>\n",
              "      <td>2014.662560</td>\n",
              "      <td>6.522930</td>\n",
              "      <td>15.729637</td>\n",
              "      <td>11.500000</td>\n",
              "      <td>86.194297</td>\n",
              "      <td>110.336742</td>\n",
              "      <td>18.531107</td>\n",
              "      <td>53.699443</td>\n",
              "      <td>1330.069131</td>\n",
              "      <td>57.210637</td>\n",
              "      <td>13.671490</td>\n",
              "      <td>1012.547419</td>\n",
              "      <td>2.447535</td>\n",
              "      <td>0.064020</td>\n",
              "      <td>1.860785</td>\n",
              "    </tr>\n",
              "    <tr>\n",
              "      <th>std</th>\n",
              "      <td>10122.249256</td>\n",
              "      <td>1.177213</td>\n",
              "      <td>3.448752</td>\n",
              "      <td>8.800218</td>\n",
              "      <td>6.922285</td>\n",
              "      <td>86.575127</td>\n",
              "      <td>98.219860</td>\n",
              "      <td>22.905655</td>\n",
              "      <td>33.959230</td>\n",
              "      <td>1191.305887</td>\n",
              "      <td>58.033275</td>\n",
              "      <td>11.458418</td>\n",
              "      <td>10.266059</td>\n",
              "      <td>13.810696</td>\n",
              "      <td>0.786282</td>\n",
              "      <td>1.280368</td>\n",
              "    </tr>\n",
              "    <tr>\n",
              "      <th>min</th>\n",
              "      <td>1.000000</td>\n",
              "      <td>2013.000000</td>\n",
              "      <td>1.000000</td>\n",
              "      <td>1.000000</td>\n",
              "      <td>0.000000</td>\n",
              "      <td>3.000000</td>\n",
              "      <td>2.000000</td>\n",
              "      <td>0.285600</td>\n",
              "      <td>2.000000</td>\n",
              "      <td>100.000000</td>\n",
              "      <td>0.642600</td>\n",
              "      <td>-16.800000</td>\n",
              "      <td>987.100000</td>\n",
              "      <td>-35.300000</td>\n",
              "      <td>0.000000</td>\n",
              "      <td>0.000000</td>\n",
              "    </tr>\n",
              "    <tr>\n",
              "      <th>25%</th>\n",
              "      <td>8766.750000</td>\n",
              "      <td>2014.000000</td>\n",
              "      <td>4.000000</td>\n",
              "      <td>8.000000</td>\n",
              "      <td>5.750000</td>\n",
              "      <td>22.000000</td>\n",
              "      <td>38.000000</td>\n",
              "      <td>4.000000</td>\n",
              "      <td>27.000000</td>\n",
              "      <td>600.000000</td>\n",
              "      <td>12.000000</td>\n",
              "      <td>3.100000</td>\n",
              "      <td>1004.000000</td>\n",
              "      <td>-8.800000</td>\n",
              "      <td>0.000000</td>\n",
              "      <td>1.000000</td>\n",
              "    </tr>\n",
              "    <tr>\n",
              "      <th>50%</th>\n",
              "      <td>17532.500000</td>\n",
              "      <td>2015.000000</td>\n",
              "      <td>7.000000</td>\n",
              "      <td>16.000000</td>\n",
              "      <td>11.500000</td>\n",
              "      <td>61.000000</td>\n",
              "      <td>86.000000</td>\n",
              "      <td>10.000000</td>\n",
              "      <td>47.000000</td>\n",
              "      <td>1000.000000</td>\n",
              "      <td>44.125200</td>\n",
              "      <td>14.600000</td>\n",
              "      <td>1012.200000</td>\n",
              "      <td>3.000000</td>\n",
              "      <td>0.000000</td>\n",
              "      <td>1.500000</td>\n",
              "    </tr>\n",
              "    <tr>\n",
              "      <th>75%</th>\n",
              "      <td>26298.250000</td>\n",
              "      <td>2016.000000</td>\n",
              "      <td>10.000000</td>\n",
              "      <td>23.000000</td>\n",
              "      <td>17.250000</td>\n",
              "      <td>119.000000</td>\n",
              "      <td>151.000000</td>\n",
              "      <td>24.000000</td>\n",
              "      <td>73.000000</td>\n",
              "      <td>1700.000000</td>\n",
              "      <td>81.000000</td>\n",
              "      <td>23.500000</td>\n",
              "      <td>1020.900000</td>\n",
              "      <td>15.000000</td>\n",
              "      <td>0.000000</td>\n",
              "      <td>2.400000</td>\n",
              "    </tr>\n",
              "    <tr>\n",
              "      <th>max</th>\n",
              "      <td>35064.000000</td>\n",
              "      <td>2017.000000</td>\n",
              "      <td>12.000000</td>\n",
              "      <td>31.000000</td>\n",
              "      <td>23.000000</td>\n",
              "      <td>737.000000</td>\n",
              "      <td>955.000000</td>\n",
              "      <td>300.000000</td>\n",
              "      <td>258.000000</td>\n",
              "      <td>10000.000000</td>\n",
              "      <td>1071.000000</td>\n",
              "      <td>41.100000</td>\n",
              "      <td>1042.000000</td>\n",
              "      <td>28.800000</td>\n",
              "      <td>46.400000</td>\n",
              "      <td>10.500000</td>\n",
              "    </tr>\n",
              "  </tbody>\n",
              "</table>\n",
              "</div>\n",
              "      <button class=\"colab-df-convert\" onclick=\"convertToInteractive('df-f73eabd6-3c3d-4b2d-869b-1ac0eec1a117')\"\n",
              "              title=\"Convert this dataframe to an interactive table.\"\n",
              "              style=\"display:none;\">\n",
              "        \n",
              "  <svg xmlns=\"http://www.w3.org/2000/svg\" height=\"24px\"viewBox=\"0 0 24 24\"\n",
              "       width=\"24px\">\n",
              "    <path d=\"M0 0h24v24H0V0z\" fill=\"none\"/>\n",
              "    <path d=\"M18.56 5.44l.94 2.06.94-2.06 2.06-.94-2.06-.94-.94-2.06-.94 2.06-2.06.94zm-11 1L8.5 8.5l.94-2.06 2.06-.94-2.06-.94L8.5 2.5l-.94 2.06-2.06.94zm10 10l.94 2.06.94-2.06 2.06-.94-2.06-.94-.94-2.06-.94 2.06-2.06.94z\"/><path d=\"M17.41 7.96l-1.37-1.37c-.4-.4-.92-.59-1.43-.59-.52 0-1.04.2-1.43.59L10.3 9.45l-7.72 7.72c-.78.78-.78 2.05 0 2.83L4 21.41c.39.39.9.59 1.41.59.51 0 1.02-.2 1.41-.59l7.78-7.78 2.81-2.81c.8-.78.8-2.07 0-2.86zM5.41 20L4 18.59l7.72-7.72 1.47 1.35L5.41 20z\"/>\n",
              "  </svg>\n",
              "      </button>\n",
              "      \n",
              "  <style>\n",
              "    .colab-df-container {\n",
              "      display:flex;\n",
              "      flex-wrap:wrap;\n",
              "      gap: 12px;\n",
              "    }\n",
              "\n",
              "    .colab-df-convert {\n",
              "      background-color: #E8F0FE;\n",
              "      border: none;\n",
              "      border-radius: 50%;\n",
              "      cursor: pointer;\n",
              "      display: none;\n",
              "      fill: #1967D2;\n",
              "      height: 32px;\n",
              "      padding: 0 0 0 0;\n",
              "      width: 32px;\n",
              "    }\n",
              "\n",
              "    .colab-df-convert:hover {\n",
              "      background-color: #E2EBFA;\n",
              "      box-shadow: 0px 1px 2px rgba(60, 64, 67, 0.3), 0px 1px 3px 1px rgba(60, 64, 67, 0.15);\n",
              "      fill: #174EA6;\n",
              "    }\n",
              "\n",
              "    [theme=dark] .colab-df-convert {\n",
              "      background-color: #3B4455;\n",
              "      fill: #D2E3FC;\n",
              "    }\n",
              "\n",
              "    [theme=dark] .colab-df-convert:hover {\n",
              "      background-color: #434B5C;\n",
              "      box-shadow: 0px 1px 3px 1px rgba(0, 0, 0, 0.15);\n",
              "      filter: drop-shadow(0px 1px 2px rgba(0, 0, 0, 0.3));\n",
              "      fill: #FFFFFF;\n",
              "    }\n",
              "  </style>\n",
              "\n",
              "      <script>\n",
              "        const buttonEl =\n",
              "          document.querySelector('#df-f73eabd6-3c3d-4b2d-869b-1ac0eec1a117 button.colab-df-convert');\n",
              "        buttonEl.style.display =\n",
              "          google.colab.kernel.accessAllowed ? 'block' : 'none';\n",
              "\n",
              "        async function convertToInteractive(key) {\n",
              "          const element = document.querySelector('#df-f73eabd6-3c3d-4b2d-869b-1ac0eec1a117');\n",
              "          const dataTable =\n",
              "            await google.colab.kernel.invokeFunction('convertToInteractive',\n",
              "                                                     [key], {});\n",
              "          if (!dataTable) return;\n",
              "\n",
              "          const docLinkHtml = 'Like what you see? Visit the ' +\n",
              "            '<a target=\"_blank\" href=https://colab.research.google.com/notebooks/data_table.ipynb>data table notebook</a>'\n",
              "            + ' to learn more about interactive tables.';\n",
              "          element.innerHTML = '';\n",
              "          dataTable['output_type'] = 'display_data';\n",
              "          await google.colab.output.renderOutput(dataTable, element);\n",
              "          const docLink = document.createElement('div');\n",
              "          docLink.innerHTML = docLinkHtml;\n",
              "          element.appendChild(docLink);\n",
              "        }\n",
              "      </script>\n",
              "    </div>\n",
              "  </div>\n",
              "  "
            ]
          },
          "metadata": {},
          "execution_count": 6
        }
      ]
    },
    {
      "cell_type": "code",
      "source": [
        "air.info()"
      ],
      "metadata": {
        "colab": {
          "base_uri": "https://localhost:8080/"
        },
        "id": "wQnk1QxWHJ2v",
        "outputId": "1e618994-86ad-445c-fa2e-54a46e86107c"
      },
      "execution_count": 7,
      "outputs": [
        {
          "output_type": "stream",
          "name": "stdout",
          "text": [
            "<class 'pandas.core.frame.DataFrame'>\n",
            "RangeIndex: 35064 entries, 0 to 35063\n",
            "Data columns (total 18 columns):\n",
            " #   Column   Non-Null Count  Dtype  \n",
            "---  ------   --------------  -----  \n",
            " 0   No       35064 non-null  int64  \n",
            " 1   year     35064 non-null  int64  \n",
            " 2   month    35064 non-null  int64  \n",
            " 3   day      35064 non-null  int64  \n",
            " 4   hour     35064 non-null  int64  \n",
            " 5   PM2.5    34314 non-null  float64\n",
            " 6   PM10     34511 non-null  float64\n",
            " 7   SO2      34401 non-null  float64\n",
            " 8   NO2      33463 non-null  float64\n",
            " 9   CO       31867 non-null  float64\n",
            " 10  O3       34400 non-null  float64\n",
            " 11  TEMP     35044 non-null  float64\n",
            " 12  PRES     35044 non-null  float64\n",
            " 13  DEWP     35044 non-null  float64\n",
            " 14  RAIN     35044 non-null  float64\n",
            " 15  wd       34986 non-null  object \n",
            " 16  WSPM     35050 non-null  float64\n",
            " 17  station  35064 non-null  object \n",
            "dtypes: float64(11), int64(5), object(2)\n",
            "memory usage: 4.8+ MB\n"
          ]
        }
      ]
    },
    {
      "cell_type": "code",
      "source": [
        "air['PM2.5'].value_counts()"
      ],
      "metadata": {
        "colab": {
          "base_uri": "https://localhost:8080/"
        },
        "id": "dU7Sv6RDHMwc",
        "outputId": "f1ae3c9e-aef8-4f4d-b81a-f3e9a831dfa1"
      },
      "execution_count": 8,
      "outputs": [
        {
          "output_type": "execute_result",
          "data": {
            "text/plain": [
              "3.0      892\n",
              "10.0     545\n",
              "8.0      524\n",
              "12.0     517\n",
              "9.0      504\n",
              "        ... \n",
              "684.0      1\n",
              "628.0      1\n",
              "640.0      1\n",
              "538.0      1\n",
              "681.0      1\n",
              "Name: PM2.5, Length: 582, dtype: int64"
            ]
          },
          "metadata": {},
          "execution_count": 8
        }
      ]
    },
    {
      "cell_type": "code",
      "source": [
        "air.columns"
      ],
      "metadata": {
        "id": "LURK1D7pIk9K",
        "colab": {
          "base_uri": "https://localhost:8080/"
        },
        "outputId": "14a002a5-46fe-490a-d6c2-02dc1e5d60ea"
      },
      "execution_count": 9,
      "outputs": [
        {
          "output_type": "execute_result",
          "data": {
            "text/plain": [
              "Index(['No', 'year', 'month', 'day', 'hour', 'PM2.5', 'PM10', 'SO2', 'NO2',\n",
              "       'CO', 'O3', 'TEMP', 'PRES', 'DEWP', 'RAIN', 'wd', 'WSPM', 'station'],\n",
              "      dtype='object')"
            ]
          },
          "metadata": {},
          "execution_count": 9
        }
      ]
    },
    {
      "cell_type": "markdown",
      "source": [
        "### Dropping unwanted columns"
      ],
      "metadata": {
        "id": "gc0okGI4Sv16"
      }
    },
    {
      "cell_type": "code",
      "source": [
        "air = air.drop(['No','station','wd','WSPM'], axis = 1)"
      ],
      "metadata": {
        "id": "eKW-odIMSX2W"
      },
      "execution_count": 10,
      "outputs": []
    },
    {
      "cell_type": "code",
      "source": [
        "air.info()"
      ],
      "metadata": {
        "colab": {
          "base_uri": "https://localhost:8080/"
        },
        "id": "9Gl2YzqSTDJo",
        "outputId": "1c5238cd-fac0-46e3-bcc4-f49ebe5db8e3"
      },
      "execution_count": 11,
      "outputs": [
        {
          "output_type": "stream",
          "name": "stdout",
          "text": [
            "<class 'pandas.core.frame.DataFrame'>\n",
            "RangeIndex: 35064 entries, 0 to 35063\n",
            "Data columns (total 14 columns):\n",
            " #   Column  Non-Null Count  Dtype  \n",
            "---  ------  --------------  -----  \n",
            " 0   year    35064 non-null  int64  \n",
            " 1   month   35064 non-null  int64  \n",
            " 2   day     35064 non-null  int64  \n",
            " 3   hour    35064 non-null  int64  \n",
            " 4   PM2.5   34314 non-null  float64\n",
            " 5   PM10    34511 non-null  float64\n",
            " 6   SO2     34401 non-null  float64\n",
            " 7   NO2     33463 non-null  float64\n",
            " 8   CO      31867 non-null  float64\n",
            " 9   O3      34400 non-null  float64\n",
            " 10  TEMP    35044 non-null  float64\n",
            " 11  PRES    35044 non-null  float64\n",
            " 12  DEWP    35044 non-null  float64\n",
            " 13  RAIN    35044 non-null  float64\n",
            "dtypes: float64(10), int64(4)\n",
            "memory usage: 3.7 MB\n"
          ]
        }
      ]
    },
    {
      "cell_type": "markdown",
      "source": [
        "### Fill null variables"
      ],
      "metadata": {
        "id": "c0vtKj4bUIe0"
      }
    },
    {
      "cell_type": "code",
      "source": [
        "air.isnull().sum()"
      ],
      "metadata": {
        "colab": {
          "base_uri": "https://localhost:8080/"
        },
        "id": "xoplSTacV24E",
        "outputId": "a9140c63-c909-48eb-8824-8f8418e62fd1"
      },
      "execution_count": 13,
      "outputs": [
        {
          "output_type": "execute_result",
          "data": {
            "text/plain": [
              "year        0\n",
              "month       0\n",
              "day         0\n",
              "hour        0\n",
              "PM2.5     750\n",
              "PM10      553\n",
              "SO2       663\n",
              "NO2      1601\n",
              "CO       3197\n",
              "O3        664\n",
              "TEMP       20\n",
              "PRES       20\n",
              "DEWP       20\n",
              "RAIN       20\n",
              "dtype: int64"
            ]
          },
          "metadata": {},
          "execution_count": 13
        }
      ]
    },
    {
      "cell_type": "code",
      "source": [
        "air['PM2.5'] = air['PM2.5'].fillna(air['PM2.5'].mean())\n",
        "air['PM10'] = air['PM10'].fillna(air['PM10'].mean())\n",
        "air['SO2'] = air['SO2'].fillna(air['SO2'].mean())\n",
        "air['NO2'] = air['NO2'].fillna(air['NO2'].mean())\n",
        "air['CO'] = air['CO'].fillna(air['CO'].mean())\n",
        "air['O3'] = air['O3'].fillna(air['O3'].mean())\n",
        "air['TEMP'] = air['TEMP'].fillna(air['TEMP'].mean())\n",
        "air['PRES'] = air['PRES'].fillna(air['PRES'].mean())\n",
        "air['DEWP'] = air['DEWP'].fillna(air['DEWP'].mean())\n",
        "air['RAIN'] = air['RAIN'].fillna(air['RAIN'].mean())"
      ],
      "metadata": {
        "id": "bIKJ-f8OTFl_"
      },
      "execution_count": 14,
      "outputs": []
    },
    {
      "cell_type": "code",
      "source": [
        "air.isnull().sum()"
      ],
      "metadata": {
        "colab": {
          "base_uri": "https://localhost:8080/"
        },
        "id": "p6ER_1NYV_wA",
        "outputId": "4ee730c7-1292-4009-f7b9-ccb71b5acce7"
      },
      "execution_count": 15,
      "outputs": [
        {
          "output_type": "execute_result",
          "data": {
            "text/plain": [
              "year     0\n",
              "month    0\n",
              "day      0\n",
              "hour     0\n",
              "PM2.5    0\n",
              "PM10     0\n",
              "SO2      0\n",
              "NO2      0\n",
              "CO       0\n",
              "O3       0\n",
              "TEMP     0\n",
              "PRES     0\n",
              "DEWP     0\n",
              "RAIN     0\n",
              "dtype: int64"
            ]
          },
          "metadata": {},
          "execution_count": 15
        }
      ]
    },
    {
      "cell_type": "code",
      "source": [
        "air.info()"
      ],
      "metadata": {
        "colab": {
          "base_uri": "https://localhost:8080/"
        },
        "id": "tdLNQGraWCuE",
        "outputId": "bc07106b-3201-416f-d951-433edaf4d239"
      },
      "execution_count": 16,
      "outputs": [
        {
          "output_type": "stream",
          "name": "stdout",
          "text": [
            "<class 'pandas.core.frame.DataFrame'>\n",
            "RangeIndex: 35064 entries, 0 to 35063\n",
            "Data columns (total 14 columns):\n",
            " #   Column  Non-Null Count  Dtype  \n",
            "---  ------  --------------  -----  \n",
            " 0   year    35064 non-null  int64  \n",
            " 1   month   35064 non-null  int64  \n",
            " 2   day     35064 non-null  int64  \n",
            " 3   hour    35064 non-null  int64  \n",
            " 4   PM2.5   35064 non-null  float64\n",
            " 5   PM10    35064 non-null  float64\n",
            " 6   SO2     35064 non-null  float64\n",
            " 7   NO2     35064 non-null  float64\n",
            " 8   CO      35064 non-null  float64\n",
            " 9   O3      35064 non-null  float64\n",
            " 10  TEMP    35064 non-null  float64\n",
            " 11  PRES    35064 non-null  float64\n",
            " 12  DEWP    35064 non-null  float64\n",
            " 13  RAIN    35064 non-null  float64\n",
            "dtypes: float64(10), int64(4)\n",
            "memory usage: 3.7 MB\n"
          ]
        }
      ]
    },
    {
      "cell_type": "markdown",
      "source": [
        "### Splitting the data"
      ],
      "metadata": {
        "id": "akOuTshxWk8Q"
      }
    },
    {
      "cell_type": "code",
      "source": [
        "x = air.drop(['PM2.5'], axis = 1)\n",
        "y = air['PM2.5']"
      ],
      "metadata": {
        "id": "Ig_d0QenWEnQ"
      },
      "execution_count": 18,
      "outputs": []
    },
    {
      "cell_type": "code",
      "source": [
        "from sklearn.model_selection import train_test_split\n",
        "x_train, x_test, y_train, y_test = train_test_split(x,y, test_size = .2, random_state = 20)\n"
      ],
      "metadata": {
        "id": "ysOzX3CgWakS"
      },
      "execution_count": 19,
      "outputs": []
    },
    {
      "cell_type": "markdown",
      "source": [
        "### Linear Regression"
      ],
      "metadata": {
        "id": "G4e4dhrLXQwQ"
      }
    },
    {
      "cell_type": "code",
      "source": [
        "from sklearn.linear_model import LinearRegression\n",
        "regressor = LinearRegression()\n",
        "Linear_regessor_model = regressor.fit(x_train, y_train)"
      ],
      "metadata": {
        "id": "kLSffPBNW-g6"
      },
      "execution_count": 20,
      "outputs": []
    },
    {
      "cell_type": "markdown",
      "source": [
        "### Scores"
      ],
      "metadata": {
        "id": "GIA6Xak9XW78"
      }
    },
    {
      "cell_type": "code",
      "source": [
        "Linear_regessor_model.score(x_train,y_train)"
      ],
      "metadata": {
        "colab": {
          "base_uri": "https://localhost:8080/"
        },
        "id": "vRXGsbPnXVoB",
        "outputId": "3a8fbc6b-b331-4045-f4bb-c3050fe08e96"
      },
      "execution_count": 21,
      "outputs": [
        {
          "output_type": "execute_result",
          "data": {
            "text/plain": [
              "0.8571191855087014"
            ]
          },
          "metadata": {},
          "execution_count": 21
        }
      ]
    },
    {
      "cell_type": "code",
      "source": [
        "Linear_regessor_model.score(x_test,y_test)"
      ],
      "metadata": {
        "colab": {
          "base_uri": "https://localhost:8080/"
        },
        "id": "Qq7K39sJXbxV",
        "outputId": "707bde36-f814-48d2-8da6-1a06197f98e9"
      },
      "execution_count": 22,
      "outputs": [
        {
          "output_type": "execute_result",
          "data": {
            "text/plain": [
              "0.8486679168341762"
            ]
          },
          "metadata": {},
          "execution_count": 22
        }
      ]
    },
    {
      "cell_type": "markdown",
      "source": [
        "### Ridge Regression"
      ],
      "metadata": {
        "id": "9eN30VGiX6lM"
      }
    },
    {
      "cell_type": "code",
      "source": [
        "from sklearn.linear_model import Ridge\n",
        "Ridge_model = Ridge(alpha = 2, max_iter = 1000, tol = 0.5)\n",
        "Ridge_model.fit(x_train,y_train)"
      ],
      "metadata": {
        "colab": {
          "base_uri": "https://localhost:8080/"
        },
        "id": "stNWcQoqXen7",
        "outputId": "138f75da-499b-43c0-896a-c3a1f4c295da"
      },
      "execution_count": 23,
      "outputs": [
        {
          "output_type": "execute_result",
          "data": {
            "text/plain": [
              "Ridge(alpha=2, max_iter=1000, tol=0.5)"
            ]
          },
          "metadata": {},
          "execution_count": 23
        }
      ]
    },
    {
      "cell_type": "markdown",
      "source": [
        "### Scores"
      ],
      "metadata": {
        "id": "uFlaqv0hYHuW"
      }
    },
    {
      "cell_type": "code",
      "source": [
        "Ridge_model.score(x_train,y_train)"
      ],
      "metadata": {
        "colab": {
          "base_uri": "https://localhost:8080/"
        },
        "id": "1oscl_t7YGzK",
        "outputId": "f5738b00-d2d1-413b-a553-f81ef96e034f"
      },
      "execution_count": 24,
      "outputs": [
        {
          "output_type": "execute_result",
          "data": {
            "text/plain": [
              "0.8571191855066848"
            ]
          },
          "metadata": {},
          "execution_count": 24
        }
      ]
    },
    {
      "cell_type": "code",
      "source": [
        "Ridge_model.score(x_test,y_test)"
      ],
      "metadata": {
        "colab": {
          "base_uri": "https://localhost:8080/"
        },
        "id": "bZ-EeF41YNrS",
        "outputId": "a0738249-2f3d-4e52-dea3-476b77cf0edd"
      },
      "execution_count": 25,
      "outputs": [
        {
          "output_type": "execute_result",
          "data": {
            "text/plain": [
              "0.8486679012233211"
            ]
          },
          "metadata": {},
          "execution_count": 25
        }
      ]
    },
    {
      "cell_type": "markdown",
      "source": [
        "### Lasso Regression"
      ],
      "metadata": {
        "id": "KZiUYc9IYs_E"
      }
    },
    {
      "cell_type": "code",
      "source": [
        "from sklearn.linear_model import Lasso\n",
        "Lasso_model = Lasso(alpha = 100, max_iter = 1000, tol = 0.5)\n",
        "Lasso_model.fit(x_train,y_train)"
      ],
      "metadata": {
        "colab": {
          "base_uri": "https://localhost:8080/"
        },
        "id": "-1zRlFrDYQ0_",
        "outputId": "ddb020f0-b947-4e27-fb76-49909325aef3"
      },
      "execution_count": 26,
      "outputs": [
        {
          "output_type": "execute_result",
          "data": {
            "text/plain": [
              "Lasso(alpha=100, tol=0.5)"
            ]
          },
          "metadata": {},
          "execution_count": 26
        }
      ]
    },
    {
      "cell_type": "markdown",
      "source": [
        "### Scores"
      ],
      "metadata": {
        "id": "T0dQkGmTY0GB"
      }
    },
    {
      "cell_type": "code",
      "source": [
        "Lasso_model.score(x_train,y_train)"
      ],
      "metadata": {
        "colab": {
          "base_uri": "https://localhost:8080/"
        },
        "id": "obE7dG_gYyp-",
        "outputId": "679ff74f-4965-4a1f-d125-b9e439534225"
      },
      "execution_count": 27,
      "outputs": [
        {
          "output_type": "execute_result",
          "data": {
            "text/plain": [
              "0.8337670374728694"
            ]
          },
          "metadata": {},
          "execution_count": 27
        }
      ]
    },
    {
      "cell_type": "code",
      "source": [
        "Lasso_model.score(x_test,y_test)"
      ],
      "metadata": {
        "colab": {
          "base_uri": "https://localhost:8080/"
        },
        "id": "5AVuPlEvY2t6",
        "outputId": "bb009049-6571-4c3e-ca91-c8db5770b6ff"
      },
      "execution_count": 28,
      "outputs": [
        {
          "output_type": "execute_result",
          "data": {
            "text/plain": [
              "0.826760189807068"
            ]
          },
          "metadata": {},
          "execution_count": 28
        }
      ]
    },
    {
      "cell_type": "markdown",
      "source": [
        "### Elastic Net"
      ],
      "metadata": {
        "id": "Pt6dqSqCY7Ht"
      }
    },
    {
      "cell_type": "code",
      "source": [
        "from sklearn.linear_model import ElasticNet\n",
        "ElasticNet_model = ElasticNet(alpha = .01, l1_ratio = 0.5)\n",
        "ElasticNet_model.fit(x_train,y_train)"
      ],
      "metadata": {
        "colab": {
          "base_uri": "https://localhost:8080/"
        },
        "id": "BpuIrsH4Y5b9",
        "outputId": "6798ce6e-bb53-441f-f59b-c53537e0d3fb"
      },
      "execution_count": 29,
      "outputs": [
        {
          "output_type": "execute_result",
          "data": {
            "text/plain": [
              "ElasticNet(alpha=0.01)"
            ]
          },
          "metadata": {},
          "execution_count": 29
        }
      ]
    },
    {
      "cell_type": "markdown",
      "source": [
        "### Scores"
      ],
      "metadata": {
        "id": "BNO9uaFuZHIu"
      }
    },
    {
      "cell_type": "code",
      "source": [
        "ElasticNet_model.score(x_train,y_train)"
      ],
      "metadata": {
        "colab": {
          "base_uri": "https://localhost:8080/"
        },
        "id": "hsYyqcgWZAWD",
        "outputId": "25284fcb-e774-4b5f-ec7e-ed1c8ea3d01b"
      },
      "execution_count": 30,
      "outputs": [
        {
          "output_type": "execute_result",
          "data": {
            "text/plain": [
              "0.8571191520702115"
            ]
          },
          "metadata": {},
          "execution_count": 30
        }
      ]
    },
    {
      "cell_type": "code",
      "source": [
        "ElasticNet_model.score(x_test,y_test)"
      ],
      "metadata": {
        "colab": {
          "base_uri": "https://localhost:8080/"
        },
        "id": "h8eSvwvuZKXr",
        "outputId": "7897574b-9e8b-4d86-fdac-848195877ea9"
      },
      "execution_count": 31,
      "outputs": [
        {
          "output_type": "execute_result",
          "data": {
            "text/plain": [
              "0.8486656994999531"
            ]
          },
          "metadata": {},
          "execution_count": 31
        }
      ]
    },
    {
      "cell_type": "markdown",
      "source": [
        "### RMSE"
      ],
      "metadata": {
        "id": "LCI-BkYsZNDy"
      }
    },
    {
      "cell_type": "code",
      "source": [
        "from sklearn.metrics import mean_squared_error\n",
        "regressor.fit(x,y)\n",
        "y_pred = regressor.predict(x)\n",
        "RMSE = mean_squared_error(y,y_pred, squared = False)\n",
        "print(RMSE)"
      ],
      "metadata": {
        "colab": {
          "base_uri": "https://localhost:8080/"
        },
        "id": "mCHbA4mdZMAt",
        "outputId": "0dd39389-6982-4931-cc60-2a0a67232821"
      },
      "execution_count": 33,
      "outputs": [
        {
          "output_type": "stream",
          "name": "stdout",
          "text": [
            "32.56312744770399\n"
          ]
        }
      ]
    },
    {
      "cell_type": "markdown",
      "source": [
        "### Pretty Table"
      ],
      "metadata": {
        "id": "T19NPX1EaEzj"
      }
    },
    {
      "cell_type": "code",
      "source": [
        "from prettytable import PrettyTable\n",
        "myTable = PrettyTable([\"Model\", \"Training_score\", \"Test_score\"])\n",
        "myTable.add_row([\"Linear_Regression\", Linear_regessor_model.score(x_train,y_train), Linear_regessor_model.score(x_test,y_test)])\n",
        "myTable.add_row([\"Ridge\", Ridge_model.score(x_train,y_train), Ridge_model.score(x_test,y_test)])\n",
        "myTable.add_row([\"Lasso\", Lasso_model.score(x_train,y_train), Lasso_model.score(x_test,y_test)])\n",
        "myTable.add_row([\"ElasticNet\", ElasticNet_model.score(x_train,y_train), ElasticNet_model.score(x_test,y_test)])"
      ],
      "metadata": {
        "id": "L7QUU-M8Z9dH"
      },
      "execution_count": 36,
      "outputs": []
    },
    {
      "cell_type": "code",
      "source": [
        "print(myTable)"
      ],
      "metadata": {
        "colab": {
          "base_uri": "https://localhost:8080/"
        },
        "id": "0DkqbDEZaP7t",
        "outputId": "b4ab0243-8ae0-46df-cf5b-d4f506c9d667"
      },
      "execution_count": 38,
      "outputs": [
        {
          "output_type": "stream",
          "name": "stdout",
          "text": [
            "+-------------------+--------------------+--------------------+\n",
            "|       Model       |   Training_score   |     Test_score     |\n",
            "+-------------------+--------------------+--------------------+\n",
            "| Linear_Regression | 0.8571103969239744 | 0.8487462281675671 |\n",
            "|       Ridge       | 0.8571191855066848 | 0.8486679012233211 |\n",
            "|       Lasso       | 0.8337670374728694 | 0.826760189807068  |\n",
            "|     ElasticNet    | 0.8571191520702115 | 0.8486656994999531 |\n",
            "+-------------------+--------------------+--------------------+\n"
          ]
        }
      ]
    },
    {
      "cell_type": "markdown",
      "source": [
        "### Findings\n",
        "#### We see from the table that the lasso model has the most variation compared to the other models and each keep a consistent score. This show us the levels of PM2.5 in the air throughout the year"
      ],
      "metadata": {
        "id": "jtfszkAca6tX"
      }
    }
  ]
}